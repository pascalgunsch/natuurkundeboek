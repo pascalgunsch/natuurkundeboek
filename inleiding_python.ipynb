{
 "cells": [
  {
   "cell_type": "markdown",
   "metadata": {},
   "source": [
    "# TN2513 Lecture 1: Programming Basics\n",
    "\n",
    "In this lecture, you will implement various basic programming techniques in Python.\n",
    "\n",
    "The reading material for this Lecture is chapter 2 from \"Computational Physics (Revised and Expanded)\" 2013 edition by Mark Newman (ISBN 978-148014551-1).\n",
    "\n",
    "**Learning objectives:** After finishing this lecture, you should be able to:\n",
    "\n",
    "1. Use basic input and (conditional) output \n",
    "2. Use a while loop to perform a calculation \n",
    "3. Perform basic list and array operations\n",
    "4. Use a for loop to perform a calculation \n",
    "5. Define and use your own Python functions\n",
    "6. Benchmark the computation time of your code\n",
    "\n",
    "Before you start you need to import the numpy package and the function in it. You can do this by running the code below by clicking the run button."
   ]
  },
  {
   "cell_type": "markdown",
   "metadata": {},
   "source": [
    "import numpy as np"
   ]
  },
  {
   "cell_type": "markdown",
   "metadata": {},
   "source": [
    "## 1. Using basic input/output\n",
    "To practice with basic programming we start with an exercise, exercise 2.3 of Newman, in which we are going to make a small calculator that operates on user input of $x$ and $y$ coordinates and print the radius and angle as output. \n",
    "\n",
    "**Exercise 2.3** Write a program to perform the inverse operation to that of Example 2.2. That is, ask the user for the Cartesian coordinates $x,y$ of a point in two-dimensional space, and calculate and print the corresponding\n",
    "polar coordinates $r$, $\\theta$, with the angle $\\theta$ given in degrees.\n",
    "\n",
    "Note that theta (in degrees) is defined in the usual way and increases from the $x+$ axis in the counterclockwise direction. Note that the arctangent function has a periodicity of 180 degrees where we in fact need a function that is periodic with 360 degrees, find the function that solves this problem. \n",
    "\n",
    "Run your script for a few inputs $x=-1$ and $y=1$ and check your answers. "
   ]
  },
  {
   "cell_type": "code",
   "execution_count": null,
   "metadata": {},
   "outputs": [],
   "source": [
    "# your code here"
   ]
  },
  {
   "cell_type": "markdown",
   "metadata": {},
   "source": [
    "dafsd"
   ]
  },
  {
   "cell_type": "code",
   "execution_count": null,
   "metadata": {},
   "outputs": [],
   "source": []
  }
 ],
 "metadata": {
  "kernelspec": {
   "display_name": "Python 3",
   "language": "python",
   "name": "python3"
  },
  "language_info": {
   "codemirror_mode": {
    "name": "ipython",
    "version": 3
   },
   "file_extension": ".py",
   "mimetype": "text/x-python",
   "name": "python",
   "nbconvert_exporter": "python",
   "pygments_lexer": "ipython3",
   "version": "3.7.3"
  }
 },
 "nbformat": 4,
 "nbformat_minor": 2
}
